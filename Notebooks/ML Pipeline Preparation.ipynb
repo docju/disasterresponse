{
 "cells": [
  {
   "cell_type": "markdown",
   "metadata": {},
   "source": [
    "# ML Pipeline Preparation\n",
    "Follow the instructions below to help you create your ML pipeline.\n",
    "### 1. Import libraries and load data from database.\n",
    "- Import Python libraries\n",
    "- Load dataset from database with [`read_sql_table`](https://pandas.pydata.org/pandas-docs/stable/generated/pandas.read_sql_table.html)\n",
    "- Define feature and target variables X and Y"
   ]
  },
  {
   "cell_type": "code",
   "execution_count": 2,
   "metadata": {},
   "outputs": [
    {
     "name": "stdout",
     "output_type": "stream",
     "text": [
      "[nltk_data] Downloading package punkt to /root/nltk_data...\n",
      "[nltk_data]   Package punkt is already up-to-date!\n",
      "[nltk_data] Downloading package wordnet to /root/nltk_data...\n",
      "[nltk_data]   Package wordnet is already up-to-date!\n",
      "[nltk_data] Downloading package averaged_perceptron_tagger to\n",
      "[nltk_data]     /root/nltk_data...\n",
      "[nltk_data]   Package averaged_perceptron_tagger is already up-to-\n",
      "[nltk_data]       date!\n",
      "[nltk_data] Downloading package stopwords to /root/nltk_data...\n",
      "[nltk_data]   Package stopwords is already up-to-date!\n"
     ]
    }
   ],
   "source": [
    "# import libraries\n",
    "import nltk\n",
    "nltk.download(['punkt','wordnet','averaged_perceptron_tagger','stopwords'])\n",
    "\n",
    "import re\n",
    "import os\n",
    "import numpy as np\n",
    "import pandas as pd\n",
    "import string\n",
    "from nltk.tokenize import word_tokenize\n",
    "from nltk.stem import WordNetLemmatizer\n",
    "from nltk.corpus import stopwords\n",
    "from sklearn.neighbors import NearestNeighbors\n",
    "from sklearn.neighbors import KDTree\n",
    "from sklearn.tree import DecisionTreeClassifier\n",
    "from sklearn.linear_model import LogisticRegressionCV\n",
    "\n",
    "from sklearn.multioutput import MultiOutputClassifier\n",
    "from sklearn.metrics import confusion_matrix\n",
    "from sklearn.model_selection import GridSearchCV\n",
    "from sklearn.ensemble import RandomForestClassifier\n",
    "from sklearn.model_selection import train_test_split\n",
    "from sklearn.pipeline import Pipeline, FeatureUnion\n",
    "from sklearn.base import BaseEstimator, TransformerMixin\n",
    "from sklearn.feature_extraction.text import CountVectorizer, TfidfTransformer\n",
    "from sqlalchemy import create_engine\n",
    "from sklearn.metrics import classification_report"
   ]
  },
  {
   "cell_type": "code",
   "execution_count": 3,
   "metadata": {},
   "outputs": [
    {
     "name": "stdout",
     "output_type": "stream",
     "text": [
      "   id                                            message  \\\n",
      "0   2  Weather update - a cold front from Cuba that c...   \n",
      "1   7            Is the Hurricane over or is it not over   \n",
      "2   8                    Looking for someone but no name   \n",
      "3   9  UN reports Leogane 80-90 destroyed. Only Hospi...   \n",
      "4  12  says: west side of Haiti, rest of the country ...   \n",
      "\n",
      "                                            original   genre  related  \\\n",
      "0  Un front froid se retrouve sur Cuba ce matin. ...  direct        1   \n",
      "1                 Cyclone nan fini osinon li pa fini  direct        1   \n",
      "2  Patnm, di Maryani relem pou li banm nouvel li ...  direct        1   \n",
      "3  UN reports Leogane 80-90 destroyed. Only Hospi...  direct        1   \n",
      "4  facade ouest d Haiti et le reste du pays aujou...  direct        1   \n",
      "\n",
      "   request  offer  aid_related  medical_help  medical_products      ...        \\\n",
      "0        0      0            0             0                 0      ...         \n",
      "1        0      0            1             0                 0      ...         \n",
      "2        0      0            0             0                 0      ...         \n",
      "3        1      0            1             0                 1      ...         \n",
      "4        0      0            0             0                 0      ...         \n",
      "\n",
      "   aid_centers  other_infrastructure  weather_related  floods  storm  fire  \\\n",
      "0            0                     0                0       0      0     0   \n",
      "1            0                     0                1       0      1     0   \n",
      "2            0                     0                0       0      0     0   \n",
      "3            0                     0                0       0      0     0   \n",
      "4            0                     0                0       0      0     0   \n",
      "\n",
      "   earthquake  cold  other_weather  direct_report  \n",
      "0           0     0              0              0  \n",
      "1           0     0              0              0  \n",
      "2           0     0              0              0  \n",
      "3           0     0              0              0  \n",
      "4           0     0              0              0  \n",
      "\n",
      "[5 rows x 39 columns]\n",
      "['related' 'request' 'offer' 'aid_related' 'medical_help'\n",
      " 'medical_products' 'search_and_rescue' 'security' 'military' 'water'\n",
      " 'food' 'shelter' 'clothing' 'money' 'missing_people' 'refugees' 'death'\n",
      " 'other_aid' 'infrastructure_related' 'transport' 'buildings' 'electricity'\n",
      " 'tools' 'hospitals' 'shops' 'aid_centers' 'other_infrastructure'\n",
      " 'weather_related' 'floods' 'storm' 'fire' 'earthquake' 'cold'\n",
      " 'other_weather' 'direct_report']\n"
     ]
    }
   ],
   "source": [
    "# load data from database\n",
    "\n",
    "\n",
    "engine = create_engine('sqlite:///STOTAJO.db')\n",
    "df = pd.read_sql_table(\"MESSAGE_CATEGORIES\", engine)\n",
    "print(df.head())\n",
    "X = df['message'].values\n",
    "Y = df[df.columns[4:]]\n",
    "\n",
    "print(Y.columns.values)"
   ]
  },
  {
   "cell_type": "markdown",
   "metadata": {},
   "source": [
    "### 2. Write a tokenization function to process your text data"
   ]
  },
  {
   "cell_type": "code",
   "execution_count": 4,
   "metadata": {},
   "outputs": [],
   "source": [
    "url_regex='http[s]?://(?:[a-zA-Z]|[0-9]|[$-_@.&+]|[!*\\(\\),]|(?:%[0-9a-fA-F][0-9a-fA-F]))+'\n",
    "\n",
    "def tokenize(text):\n",
    "    \"\"\"\n",
    "    \n",
    "    \n",
    "    \"\"\"\n",
    "    detected_urls=re.findall(url_regex,text)\n",
    "    for character in string.punctuation:\n",
    "        text=text.replace(character,'')\n",
    "    words=word_tokenize(text)\n",
    "    tokens=[w for w in words if w not in stopwords.words (\"english\")]\n",
    "    lemmatizer=WordNetLemmatizer()\n",
    "    \n",
    "    clean_tokens=[]\n",
    "    for tok in tokens:\n",
    "        clean_tok = lemmatizer.lemmatize(tok).lower().strip()\n",
    "        clean_tokens.append(clean_tok)\n",
    "        \n",
    "    return clean_tokens\n",
    "    \n",
    "    pass\n",
    "\n",
    "\n"
   ]
  },
  {
   "cell_type": "markdown",
   "metadata": {},
   "source": [
    "### 3. Build a machine learning pipeline\n",
    "This machine pipeline should take in the `message` column as input and output classification results on the other 36 categories in the dataset. You may find the [MultiOutputClassifier](http://scikit-learn.org/stable/modules/generated/sklearn.multioutput.MultiOutputClassifier.html) helpful for predicting multiple target variables."
   ]
  },
  {
   "cell_type": "code",
   "execution_count": 9,
   "metadata": {},
   "outputs": [
    {
     "data": {
      "text/plain": [
       "{'memory': None,\n",
       " 'steps': [('vect',\n",
       "   CountVectorizer(analyzer='word', binary=False, decode_error='strict',\n",
       "           dtype=<class 'numpy.int64'>, encoding='utf-8', input='content',\n",
       "           lowercase=True, max_df=1.0, max_features=None, min_df=1,\n",
       "           ngram_range=(1, 1), preprocessor=None, stop_words=None,\n",
       "           strip_accents=None, token_pattern='(?u)\\\\b\\\\w\\\\w+\\\\b',\n",
       "           tokenizer=<function tokenize at 0x7fa9e0c21ea0>, vocabulary=None)),\n",
       "  ('tfidf',\n",
       "   TfidfTransformer(norm='l2', smooth_idf=True, sublinear_tf=False, use_idf=True)),\n",
       "  ('clf',\n",
       "   MultiOutputClassifier(estimator=RandomForestClassifier(bootstrap=True, class_weight=None, criterion='gini',\n",
       "               max_depth=6, max_features='auto', max_leaf_nodes=None,\n",
       "               min_impurity_decrease=0.0, min_impurity_split=None,\n",
       "               min_samples_leaf=1, min_samples_split=2,\n",
       "               min_weight_fraction_leaf=0.0, n_estimators=10, n_jobs=1,\n",
       "               oob_score=False, random_state=None, verbose=0,\n",
       "               warm_start=False),\n",
       "              n_jobs=1))],\n",
       " 'vect': CountVectorizer(analyzer='word', binary=False, decode_error='strict',\n",
       "         dtype=<class 'numpy.int64'>, encoding='utf-8', input='content',\n",
       "         lowercase=True, max_df=1.0, max_features=None, min_df=1,\n",
       "         ngram_range=(1, 1), preprocessor=None, stop_words=None,\n",
       "         strip_accents=None, token_pattern='(?u)\\\\b\\\\w\\\\w+\\\\b',\n",
       "         tokenizer=<function tokenize at 0x7fa9e0c21ea0>, vocabulary=None),\n",
       " 'tfidf': TfidfTransformer(norm='l2', smooth_idf=True, sublinear_tf=False, use_idf=True),\n",
       " 'clf': MultiOutputClassifier(estimator=RandomForestClassifier(bootstrap=True, class_weight=None, criterion='gini',\n",
       "             max_depth=6, max_features='auto', max_leaf_nodes=None,\n",
       "             min_impurity_decrease=0.0, min_impurity_split=None,\n",
       "             min_samples_leaf=1, min_samples_split=2,\n",
       "             min_weight_fraction_leaf=0.0, n_estimators=10, n_jobs=1,\n",
       "             oob_score=False, random_state=None, verbose=0,\n",
       "             warm_start=False),\n",
       "            n_jobs=1),\n",
       " 'vect__analyzer': 'word',\n",
       " 'vect__binary': False,\n",
       " 'vect__decode_error': 'strict',\n",
       " 'vect__dtype': numpy.int64,\n",
       " 'vect__encoding': 'utf-8',\n",
       " 'vect__input': 'content',\n",
       " 'vect__lowercase': True,\n",
       " 'vect__max_df': 1.0,\n",
       " 'vect__max_features': None,\n",
       " 'vect__min_df': 1,\n",
       " 'vect__ngram_range': (1, 1),\n",
       " 'vect__preprocessor': None,\n",
       " 'vect__stop_words': None,\n",
       " 'vect__strip_accents': None,\n",
       " 'vect__token_pattern': '(?u)\\\\b\\\\w\\\\w+\\\\b',\n",
       " 'vect__tokenizer': <function __main__.tokenize(text)>,\n",
       " 'vect__vocabulary': None,\n",
       " 'tfidf__norm': 'l2',\n",
       " 'tfidf__smooth_idf': True,\n",
       " 'tfidf__sublinear_tf': False,\n",
       " 'tfidf__use_idf': True,\n",
       " 'clf__estimator__bootstrap': True,\n",
       " 'clf__estimator__class_weight': None,\n",
       " 'clf__estimator__criterion': 'gini',\n",
       " 'clf__estimator__max_depth': 6,\n",
       " 'clf__estimator__max_features': 'auto',\n",
       " 'clf__estimator__max_leaf_nodes': None,\n",
       " 'clf__estimator__min_impurity_decrease': 0.0,\n",
       " 'clf__estimator__min_impurity_split': None,\n",
       " 'clf__estimator__min_samples_leaf': 1,\n",
       " 'clf__estimator__min_samples_split': 2,\n",
       " 'clf__estimator__min_weight_fraction_leaf': 0.0,\n",
       " 'clf__estimator__n_estimators': 10,\n",
       " 'clf__estimator__n_jobs': 1,\n",
       " 'clf__estimator__oob_score': False,\n",
       " 'clf__estimator__random_state': None,\n",
       " 'clf__estimator__verbose': 0,\n",
       " 'clf__estimator__warm_start': False,\n",
       " 'clf__estimator': RandomForestClassifier(bootstrap=True, class_weight=None, criterion='gini',\n",
       "             max_depth=6, max_features='auto', max_leaf_nodes=None,\n",
       "             min_impurity_decrease=0.0, min_impurity_split=None,\n",
       "             min_samples_leaf=1, min_samples_split=2,\n",
       "             min_weight_fraction_leaf=0.0, n_estimators=10, n_jobs=1,\n",
       "             oob_score=False, random_state=None, verbose=0,\n",
       "             warm_start=False),\n",
       " 'clf__n_jobs': 1}"
      ]
     },
     "execution_count": 9,
     "metadata": {},
     "output_type": "execute_result"
    }
   ],
   "source": [
    "pipeline = Pipeline ([\n",
    "        ('vect', CountVectorizer(tokenizer=tokenize)),\n",
    "        ('tfidf',TfidfTransformer()),\n",
    "        ('clf', MultiOutputClassifier(RandomForestClassifier(max_depth=6)))\n",
    "    ])\n",
    "\n",
    "pipeline.get_params()\n"
   ]
  },
  {
   "cell_type": "markdown",
   "metadata": {},
   "source": [
    "### 4. Train pipeline\n",
    "- Split data into train and test sets\n",
    "- Train pipeline"
   ]
  },
  {
   "cell_type": "code",
   "execution_count": 10,
   "metadata": {},
   "outputs": [
    {
     "data": {
      "text/plain": [
       "Pipeline(memory=None,\n",
       "     steps=[('vect', CountVectorizer(analyzer='word', binary=False, decode_error='strict',\n",
       "        dtype=<class 'numpy.int64'>, encoding='utf-8', input='content',\n",
       "        lowercase=True, max_df=1.0, max_features=None, min_df=1,\n",
       "        ngram_range=(1, 1), preprocessor=None, stop_words=None,\n",
       "        strip...oob_score=False, random_state=None, verbose=0,\n",
       "            warm_start=False),\n",
       "           n_jobs=1))])"
      ]
     },
     "execution_count": 10,
     "metadata": {},
     "output_type": "execute_result"
    }
   ],
   "source": [
    "X_train, X_test, y_train, y_test=train_test_split(X,Y)\n",
    "\n",
    "pipeline.fit(X_train,y_train)\n"
   ]
  },
  {
   "cell_type": "markdown",
   "metadata": {},
   "source": [
    "### 5. Test your model\n",
    "Report the f1 score, precision and recall for each output category of the dataset. You can do this by iterating through the columns and calling sklearn's `classification_report` on each."
   ]
  },
  {
   "cell_type": "code",
   "execution_count": 6,
   "metadata": {},
   "outputs": [],
   "source": [
    "y_pred=pipeline.predict(X_train)\n"
   ]
  },
  {
   "cell_type": "code",
   "execution_count": 7,
   "metadata": {},
   "outputs": [
    {
     "name": "stdout",
     "output_type": "stream",
     "text": [
      "                        precision    recall  f1-score   support\n",
      "\n",
      "               related       0.77      1.00      0.87     15059\n",
      "               request       0.00      0.00      0.00      3401\n",
      "                 offer       0.00      0.00      0.00        90\n",
      "           aid_related       0.91      0.07      0.13      8162\n",
      "          medical_help       1.00      0.00      0.00      1588\n",
      "      medical_products       0.00      0.00      0.00       999\n",
      "     search_and_rescue       0.00      0.00      0.00       554\n",
      "              security       0.00      0.00      0.00       342\n",
      "              military       0.00      0.00      0.00       626\n",
      "                 water       0.00      0.00      0.00      1281\n",
      "                  food       1.00      0.00      0.00      2220\n",
      "               shelter       1.00      0.00      0.00      1731\n",
      "              clothing       0.00      0.00      0.00       290\n",
      "                 money       0.00      0.00      0.00       448\n",
      "        missing_people       1.00      0.00      0.01       226\n",
      "              refugees       0.00      0.00      0.00       661\n",
      "                 death       1.00      0.00      0.00       875\n",
      "             other_aid       0.00      0.00      0.00      2595\n",
      "infrastructure_related       0.00      0.00      0.00      1298\n",
      "             transport       1.00      0.00      0.00       919\n",
      "             buildings       0.00      0.00      0.00       994\n",
      "           electricity       0.00      0.00      0.00       416\n",
      "                 tools       0.00      0.00      0.00       122\n",
      "             hospitals       0.00      0.00      0.00       226\n",
      "                 shops       1.00      0.01      0.02        87\n",
      "           aid_centers       1.00      0.00      0.01       234\n",
      "  other_infrastructure       0.00      0.00      0.00       875\n",
      "       weather_related       1.00      0.01      0.01      5493\n",
      "                floods       1.00      0.01      0.01      1624\n",
      "                 storm       1.00      0.00      0.01      1845\n",
      "                  fire       0.00      0.00      0.00       223\n",
      "            earthquake       1.00      0.00      0.00      1850\n",
      "                  cold       0.00      0.00      0.00       410\n",
      "         other_weather       1.00      0.00      0.00      1025\n",
      "         direct_report       1.00      0.00      0.00      3885\n",
      "\n",
      "           avg / total       0.68      0.25      0.23     62674\n",
      "\n"
     ]
    },
    {
     "name": "stderr",
     "output_type": "stream",
     "text": [
      "/opt/conda/lib/python3.6/site-packages/sklearn/metrics/classification.py:1135: UndefinedMetricWarning: Precision and F-score are ill-defined and being set to 0.0 in labels with no predicted samples.\n",
      "  'precision', 'predicted', average, warn_for)\n"
     ]
    }
   ],
   "source": [
    "#print(classification_report(y_train,y_pred,target_names = df.columns[4:]))\n",
    "#print(classification_report(np.hstack(y_test),np.hstack(y_pred)))\n",
    "\n",
    "print(classification_report(y_train, y_pred, target_names=Y.columns.values))"
   ]
  },
  {
   "cell_type": "markdown",
   "metadata": {},
   "source": [
    "### 6. Improve your model\n",
    "Use grid search to find better parameters. "
   ]
  },
  {
   "cell_type": "code",
   "execution_count": 8,
   "metadata": {},
   "outputs": [
    {
     "name": "stdout",
     "output_type": "stream",
     "text": [
      "\n",
      "Best Parameters: {'clf__estimator__min_samples_split': 6, 'clf__estimator__n_estimators': 20, 'vect__ngram_range': (1, 2)}\n"
     ]
    }
   ],
   "source": [
    "parameters = {\n",
    "      'vect__ngram_range': ((1, 1), (1, 2)),\n",
    "        'clf__estimator__n_estimators': [10, 20] ,\n",
    "         'clf__estimator__min_samples_split': [2, 4, 6]\n",
    "    \n",
    "    \n",
    "}\n",
    "\n",
    "cv = GridSearchCV(pipeline,param_grid=parameters,n_jobs=-1,cv=2)\n",
    "\n",
    "cv.fit(X_train,y_train)\n",
    "\n",
    "print(\"\\nBest Parameters:\",cv.best_params_)"
   ]
  },
  {
   "cell_type": "markdown",
   "metadata": {},
   "source": [
    "### 7. Test your model\n",
    "Show the accuracy, precision, and recall of the tuned model.  \n",
    "\n",
    "Since this project focuses on code quality, process, and  pipelines, there is no minimum performance metric needed to pass. However, make sure to fine tune your models for accuracy, precision and recall to make your project stand out - especially for your portfolio!"
   ]
  },
  {
   "cell_type": "code",
   "execution_count": 9,
   "metadata": {},
   "outputs": [
    {
     "name": "stdout",
     "output_type": "stream",
     "text": [
      "                        precision    recall  f1-score   support\n",
      "\n",
      "               related       0.77      1.00      0.87      5034\n",
      "               request       0.00      0.00      0.00      1073\n",
      "                 offer       0.00      0.00      0.00        28\n",
      "           aid_related       1.00      0.01      0.02      2698\n",
      "          medical_help       0.00      0.00      0.00       496\n",
      "      medical_products       0.00      0.00      0.00       314\n",
      "     search_and_rescue       0.00      0.00      0.00       170\n",
      "              security       0.00      0.00      0.00       129\n",
      "              military       0.00      0.00      0.00       234\n",
      "                 water       0.00      0.00      0.00       391\n",
      "                  food       0.00      0.00      0.00       703\n",
      "               shelter       0.00      0.00      0.00       583\n",
      "              clothing       0.00      0.00      0.00       115\n",
      "                 money       0.00      0.00      0.00       156\n",
      "        missing_people       0.00      0.00      0.00        72\n",
      "              refugees       0.00      0.00      0.00       214\n",
      "                 death       0.00      0.00      0.00       319\n",
      "             other_aid       0.00      0.00      0.00       851\n",
      "infrastructure_related       0.00      0.00      0.00       407\n",
      "             transport       0.00      0.00      0.00       282\n",
      "             buildings       0.00      0.00      0.00       339\n",
      "           electricity       0.00      0.00      0.00       116\n",
      "                 tools       0.00      0.00      0.00        37\n",
      "             hospitals       0.00      0.00      0.00        57\n",
      "                 shops       0.00      0.00      0.00        33\n",
      "           aid_centers       0.00      0.00      0.00        75\n",
      "  other_infrastructure       0.00      0.00      0.00       276\n",
      "       weather_related       1.00      0.00      0.00      1804\n",
      "                floods       0.00      0.00      0.00       531\n",
      "                 storm       0.00      0.00      0.00       598\n",
      "                  fire       0.00      0.00      0.00        59\n",
      "            earthquake       0.00      0.00      0.00       605\n",
      "                  cold       0.00      0.00      0.00       120\n",
      "         other_weather       0.00      0.00      0.00       351\n",
      "         direct_report       0.00      0.00      0.00      1190\n",
      "\n",
      "           avg / total       0.41      0.25      0.22     20460\n",
      "\n",
      "related                   0.768081\n",
      "request                   0.836283\n",
      "offer                     0.995728\n",
      "aid_related               0.591547\n",
      "medical_help              0.924321\n",
      "medical_products          0.952090\n",
      "search_and_rescue         0.974062\n",
      "security                  0.980317\n",
      "military                  0.964297\n",
      "water                     0.940342\n",
      "food                      0.892737\n",
      "shelter                   0.911047\n",
      "clothing                  0.982453\n",
      "money                     0.976198\n",
      "missing_people            0.989014\n",
      "refugees                  0.967348\n",
      "death                     0.951327\n",
      "other_aid                 0.870156\n",
      "infrastructure_related    0.937901\n",
      "transport                 0.956973\n",
      "buildings                 0.948276\n",
      "electricity               0.982301\n",
      "tools                     0.994355\n",
      "hospitals                 0.991303\n",
      "shops                     0.994965\n",
      "aid_centers               0.988557\n",
      "other_infrastructure      0.957888\n",
      "weather_related           0.725206\n",
      "floods                    0.918981\n",
      "storm                     0.908758\n",
      "fire                      0.990998\n",
      "earthquake                0.907690\n",
      "cold                      0.981691\n",
      "other_weather             0.946445\n",
      "direct_report             0.818431\n",
      "dtype: float64\n"
     ]
    },
    {
     "name": "stderr",
     "output_type": "stream",
     "text": [
      "/opt/conda/lib/python3.6/site-packages/sklearn/metrics/classification.py:1135: UndefinedMetricWarning: Precision and F-score are ill-defined and being set to 0.0 in labels with no predicted samples.\n",
      "  'precision', 'predicted', average, warn_for)\n"
     ]
    }
   ],
   "source": [
    "y_pred=cv.predict(X_test)\n",
    "\n",
    "accuracy=(y_pred==y_test).mean()\n",
    "\n",
    "print(classification_report(y_test, y_pred, target_names=Y.columns.values))\n",
    "print(accuracy)\n"
   ]
  },
  {
   "cell_type": "markdown",
   "metadata": {},
   "source": [
    "### 8. Try improving your model further. Here are a few ideas:\n",
    "* try other machine learning algorithms\n",
    "* add other features besides the TF-IDF"
   ]
  },
  {
   "cell_type": "code",
   "execution_count": 13,
   "metadata": {
    "scrolled": false
   },
   "outputs": [
    {
     "name": "stdout",
     "output_type": "stream",
     "text": [
      "{'memory': None, 'steps': [('vect', CountVectorizer(analyzer='word', binary=False, decode_error='strict',\n",
      "        dtype=<class 'numpy.int64'>, encoding='utf-8', input='content',\n",
      "        lowercase=True, max_df=1.0, max_features=None, min_df=1,\n",
      "        ngram_range=(1, 1), preprocessor=None, stop_words=None,\n",
      "        strip_accents=None, token_pattern='(?u)\\\\b\\\\w\\\\w+\\\\b',\n",
      "        tokenizer=<function tokenize at 0x7fa9e0c21ea0>, vocabulary=None)), ('tfidf', TfidfTransformer(norm='l2', smooth_idf=True, sublinear_tf=False, use_idf=True)), ('clf', MultiOutputClassifier(estimator=DecisionTreeClassifier(class_weight=None, criterion='gini', max_depth=None,\n",
      "            max_features=None, max_leaf_nodes=None,\n",
      "            min_impurity_decrease=0.0, min_impurity_split=None,\n",
      "            min_samples_leaf=1, min_samples_split=2,\n",
      "            min_weight_fraction_leaf=0.0, presort=False, random_state=None,\n",
      "            splitter='best'),\n",
      "           n_jobs=1))], 'vect': CountVectorizer(analyzer='word', binary=False, decode_error='strict',\n",
      "        dtype=<class 'numpy.int64'>, encoding='utf-8', input='content',\n",
      "        lowercase=True, max_df=1.0, max_features=None, min_df=1,\n",
      "        ngram_range=(1, 1), preprocessor=None, stop_words=None,\n",
      "        strip_accents=None, token_pattern='(?u)\\\\b\\\\w\\\\w+\\\\b',\n",
      "        tokenizer=<function tokenize at 0x7fa9e0c21ea0>, vocabulary=None), 'tfidf': TfidfTransformer(norm='l2', smooth_idf=True, sublinear_tf=False, use_idf=True), 'clf': MultiOutputClassifier(estimator=DecisionTreeClassifier(class_weight=None, criterion='gini', max_depth=None,\n",
      "            max_features=None, max_leaf_nodes=None,\n",
      "            min_impurity_decrease=0.0, min_impurity_split=None,\n",
      "            min_samples_leaf=1, min_samples_split=2,\n",
      "            min_weight_fraction_leaf=0.0, presort=False, random_state=None,\n",
      "            splitter='best'),\n",
      "           n_jobs=1), 'vect__analyzer': 'word', 'vect__binary': False, 'vect__decode_error': 'strict', 'vect__dtype': <class 'numpy.int64'>, 'vect__encoding': 'utf-8', 'vect__input': 'content', 'vect__lowercase': True, 'vect__max_df': 1.0, 'vect__max_features': None, 'vect__min_df': 1, 'vect__ngram_range': (1, 1), 'vect__preprocessor': None, 'vect__stop_words': None, 'vect__strip_accents': None, 'vect__token_pattern': '(?u)\\\\b\\\\w\\\\w+\\\\b', 'vect__tokenizer': <function tokenize at 0x7fa9e0c21ea0>, 'vect__vocabulary': None, 'tfidf__norm': 'l2', 'tfidf__smooth_idf': True, 'tfidf__sublinear_tf': False, 'tfidf__use_idf': True, 'clf__estimator__class_weight': None, 'clf__estimator__criterion': 'gini', 'clf__estimator__max_depth': None, 'clf__estimator__max_features': None, 'clf__estimator__max_leaf_nodes': None, 'clf__estimator__min_impurity_decrease': 0.0, 'clf__estimator__min_impurity_split': None, 'clf__estimator__min_samples_leaf': 1, 'clf__estimator__min_samples_split': 2, 'clf__estimator__min_weight_fraction_leaf': 0.0, 'clf__estimator__presort': False, 'clf__estimator__random_state': None, 'clf__estimator__splitter': 'best', 'clf__estimator': DecisionTreeClassifier(class_weight=None, criterion='gini', max_depth=None,\n",
      "            max_features=None, max_leaf_nodes=None,\n",
      "            min_impurity_decrease=0.0, min_impurity_split=None,\n",
      "            min_samples_leaf=1, min_samples_split=2,\n",
      "            min_weight_fraction_leaf=0.0, presort=False, random_state=None,\n",
      "            splitter='best'), 'clf__n_jobs': 1}\n"
     ]
    }
   ],
   "source": [
    "pipeline2 = Pipeline ([\n",
    "        ('vect', CountVectorizer(tokenizer=tokenize)),\n",
    "        ('tfidf',TfidfTransformer()),\n",
    "        ('clf', MultiOutputClassifier(DecisionTreeClassifier()))\n",
    "    ])\n",
    "\n",
    "print(pipeline2.get_params())\n"
   ]
  },
  {
   "cell_type": "code",
   "execution_count": null,
   "metadata": {},
   "outputs": [],
   "source": [
    "\n",
    "parameters2 = {\n",
    "      'vect__ngram_range': ((1, 1), (1, 2)), \n",
    "      'clf__estimator__min_samples_leaf': [1, 10]\n",
    "}\n",
    "\n",
    "pipeline2.fit(X_train,y_train)\n",
    "\n",
    "\n",
    "cv2 = GridSearchCV(pipeline2,param_grid=parameters2,n_jobs=-1,cv=2)\n",
    "\n",
    "cv2.fit(X_train,y_train)\n",
    "\n",
    "print(\"\\nBest Parameters:\",cv2.best_params_)\n"
   ]
  },
  {
   "cell_type": "code",
   "execution_count": 23,
   "metadata": {
    "scrolled": false
   },
   "outputs": [
    {
     "name": "stdout",
     "output_type": "stream",
     "text": [
      "                        precision    recall  f1-score   support\n",
      "\n",
      "               related       0.85      0.94      0.89      5034\n",
      "               request       0.78      0.57      0.66      1073\n",
      "                 offer       0.00      0.00      0.00        28\n",
      "           aid_related       0.76      0.70      0.73      2698\n",
      "          medical_help       0.66      0.27      0.38       496\n",
      "      medical_products       0.70      0.26      0.38       314\n",
      "     search_and_rescue       0.68      0.20      0.31       170\n",
      "              security       0.00      0.00      0.00       129\n",
      "              military       0.57      0.27      0.37       234\n",
      "                 water       0.82      0.52      0.63       391\n",
      "                  food       0.84      0.66      0.74       703\n",
      "               shelter       0.78      0.48      0.60       583\n",
      "              clothing       0.59      0.35      0.44       115\n",
      "                 money       0.61      0.21      0.31       156\n",
      "        missing_people       0.00      0.00      0.00        72\n",
      "              refugees       0.62      0.26      0.37       214\n",
      "                 death       0.77      0.45      0.57       319\n",
      "             other_aid       0.59      0.18      0.28       851\n",
      "infrastructure_related       0.38      0.07      0.12       407\n",
      "             transport       0.57      0.24      0.34       282\n",
      "             buildings       0.63      0.40      0.49       339\n",
      "           electricity       0.52      0.33      0.40       116\n",
      "                 tools       0.00      0.00      0.00        37\n",
      "             hospitals       0.22      0.04      0.06        57\n",
      "                 shops       0.00      0.00      0.00        33\n",
      "           aid_centers       0.00      0.00      0.00        75\n",
      "  other_infrastructure       0.00      0.00      0.00       276\n",
      "       weather_related       0.84      0.68      0.75      1804\n",
      "                floods       0.80      0.50      0.62       531\n",
      "                 storm       0.71      0.55      0.62       598\n",
      "                  fire       0.67      0.31      0.42        59\n",
      "            earthquake       0.91      0.69      0.78       605\n",
      "                  cold       0.61      0.31      0.41       120\n",
      "         other_weather       0.57      0.10      0.17       351\n",
      "         direct_report       0.72      0.48      0.58      1190\n",
      "\n",
      "           avg / total       0.74      0.59      0.64     20460\n",
      "\n",
      "related                   0.827128\n",
      "request                   0.903570\n",
      "offer                     0.995728\n",
      "aid_related               0.782728\n",
      "medical_help              0.933933\n",
      "medical_products          0.959262\n",
      "search_and_rescue         0.976808\n",
      "security                  0.980165\n",
      "military                  0.966738\n",
      "water                     0.964297\n",
      "food                      0.949954\n",
      "shelter                   0.942020\n",
      "clothing                  0.984284\n",
      "money                     0.978029\n",
      "missing_people            0.989014\n",
      "refugees                  0.970552\n",
      "death                     0.966585\n",
      "other_aid                 0.877632\n",
      "infrastructure_related    0.935307\n",
      "transport                 0.959414\n",
      "buildings                 0.956668\n",
      "electricity               0.982759\n",
      "tools                     0.994355\n",
      "hospitals                 0.990540\n",
      "shops                     0.994965\n",
      "aid_centers               0.988557\n",
      "other_infrastructure      0.957888\n",
      "weather_related           0.875648\n",
      "floods                    0.949954\n",
      "storm                     0.938511\n",
      "fire                      0.992371\n",
      "earthquake                0.964449\n",
      "cold                      0.983674\n",
      "other_weather             0.947818\n",
      "direct_report             0.871834\n",
      "dtype: float64\n"
     ]
    },
    {
     "name": "stderr",
     "output_type": "stream",
     "text": [
      "/opt/conda/lib/python3.6/site-packages/sklearn/metrics/classification.py:1135: UndefinedMetricWarning: Precision and F-score are ill-defined and being set to 0.0 in labels with no predicted samples.\n",
      "  'precision', 'predicted', average, warn_for)\n"
     ]
    }
   ],
   "source": [
    "y_pred=cv2.predict(X_test)\n",
    "\n",
    "accuracy=(y_pred==y_test).mean()\n",
    "\n",
    "print(classification_report(y_test, y_pred, target_names=Y.columns.values))\n",
    "print(accuracy)"
   ]
  },
  {
   "cell_type": "markdown",
   "metadata": {},
   "source": [
    "### 9. Export your model as a pickle file"
   ]
  },
  {
   "cell_type": "code",
   "execution_count": 24,
   "metadata": {},
   "outputs": [],
   "source": [
    "import pickle\n",
    "\n",
    "pickle.dump(cv2, open('classifier.pkl','wb'))"
   ]
  },
  {
   "cell_type": "markdown",
   "metadata": {},
   "source": [
    "### 10. Use this notebook to complete `train.py`\n",
    "Use the template file attached in the Resources folder to write a script that runs the steps above to create a database and export a model based on a new dataset specified by the user."
   ]
  },
  {
   "cell_type": "code",
   "execution_count": null,
   "metadata": {},
   "outputs": [],
   "source": []
  }
 ],
 "metadata": {
  "kernelspec": {
   "display_name": "Python 3",
   "language": "python",
   "name": "python3"
  },
  "language_info": {
   "codemirror_mode": {
    "name": "ipython",
    "version": 3
   },
   "file_extension": ".py",
   "mimetype": "text/x-python",
   "name": "python",
   "nbconvert_exporter": "python",
   "pygments_lexer": "ipython3",
   "version": "3.6.3"
  }
 },
 "nbformat": 4,
 "nbformat_minor": 2
}
